{
  "nbformat": 4,
  "nbformat_minor": 0,
  "metadata": {
    "colab": {
      "provenance": [],
      "collapsed_sections": [
        "H9LyYIRTdMgB",
        "WBeLNB87dfSl",
        "d87rqC9xepRQ",
        "aJZQx3aTfhXs",
        "2BEvNYZ8gGvX",
        "Ic6ChIAmgHYg",
        "FuyGvFLpgHxC"
      ],
      "authorship_tag": "ABX9TyMYTulBelYIqn5IqmUnIhUm",
      "include_colab_link": true
    },
    "kernelspec": {
      "name": "python3",
      "display_name": "Python 3"
    },
    "language_info": {
      "name": "python"
    }
  },
  "cells": [
    {
      "cell_type": "markdown",
      "metadata": {
        "id": "view-in-github",
        "colab_type": "text"
      },
      "source": [
        "<a href=\"https://colab.research.google.com/github/PavelIvl/app-2/blob/master/module_12.ipynb\" target=\"_parent\"><img src=\"https://colab.research.google.com/assets/colab-badge.svg\" alt=\"Open In Colab\"/></a>"
      ]
    },
    {
      "cell_type": "markdown",
      "source": [
        "# task_1\n",
        "Задача 1. Сумма чисел'\n",
        "\n",
        "Напишите функцию summa_n, которая принимает одно целое положительное число N и выводит сумму всех чисел от 1 до N включительно."
      ],
      "metadata": {
        "id": "H9LyYIRTdMgB"
      }
    },
    {
      "cell_type": "code",
      "source": [
        "def summa_n(positive_number):\n",
        "  summa_numbers = 0\n",
        "  for composition in range(1, positive_number + 1):\n",
        "    summa_numbers += composition\n",
        "  print(f'Я знаю, что сумма чисел от 1 до {number} равна {summa_numbers}')\n",
        "\n",
        "number = int(input('Введите число: '))\n",
        "summa_n(number)"
      ],
      "metadata": {
        "id": "hayu3yGjcjo2"
      },
      "execution_count": null,
      "outputs": []
    },
    {
      "cell_type": "markdown",
      "source": [
        "# task_2\n",
        "Задача 2. Функция в функции.\n",
        "\n",
        "Евгений проходит специальный тест по программированию.\n",
        "У него всё шло хорошо, пока он не наткнулся на тему “Функции”.\n",
        "Задание звучит так:\n",
        "Основная ветка программы, не считая заголовков функций, состоит из одной строки кода.\n",
        "\n",
        "Это вызов функции test().\n",
        "В ней запрашивается на ввод целое число.\n",
        "Если оно положительное, то вызывается функция positive(), тело которой содержит команду вывода на экран слова \"Положительное\".\n",
        "Если число отрицательное, то вызывается функция negative(), ее тело содержит выражение вывода на экран слова \"Отрицательное\".\n",
        "Помогите Евгению и реализуйте такую программ"
      ],
      "metadata": {
        "id": "WBeLNB87dfSl"
      }
    },
    {
      "cell_type": "code",
      "source": [
        "def positive():\n",
        "  print('Положительное')\n",
        "\n",
        "def negative():\n",
        "  print('Отрицательное')\n",
        "\n",
        "def test():\n",
        "  number = int(input('Введите число: '))\n",
        "  if number >= 0:\n",
        "    positive()\n",
        "  else:\n",
        "    negative()\n",
        "\n",
        "test()"
      ],
      "metadata": {
        "id": "m2hh24cXdh5Q"
      },
      "execution_count": null,
      "outputs": []
    },
    {
      "cell_type": "markdown",
      "source": [
        "# task_3\n",
        "Задача 3. Апгрейд калькулятора\n",
        "\n",
        "Степан использует калькулятор для расчёта суммы и разности чисел, но на работе ему требуются не только обычные арифметические действия.\n",
        "Он ничего не хочет делать вручную, поэтому решил немного расширить функционал калькулятора.\n",
        "Напишите программу, запрашивающую у пользователя число и действие, которое нужно сделать с числом: вывести сумму его цифр, максимальную или минимальную цифру.\n",
        "Каждое действие оформите в виде отдельной функции, а основную программу зациклите.\n",
        "Запрошенные числа должны передаваться в функции суммы, максимума и минимума при помощи аргументов."
      ],
      "metadata": {
        "id": "d87rqC9xepRQ"
      }
    },
    {
      "cell_type": "code",
      "source": [
        "def summa(numeric):\n",
        "  amount = 0\n",
        "  while numeric > 0:\n",
        "    amount += numeric % 10\n",
        "    numeric //= 10\n",
        "  return amount\n",
        "\n",
        "def maximum(numeric):\n",
        "  max_numeric = -1\n",
        "  while numeric > 0:\n",
        "    if numeric % 10 > max_numeric:\n",
        "      max_numeric = numeric % 10\n",
        "    numeric //= 10\n",
        "  return max_numeric\n",
        "\n",
        "def minimum(numeric):\n",
        "  min_numeric = 10\n",
        "  while numeric > 0:\n",
        "    if numeric % 10 < min_numeric:\n",
        "      min_numeric = numeric % 10\n",
        "    numeric //= 10\n",
        "  return min_numeric\n",
        "\n",
        "while True:\n",
        "  print()\n",
        "  number = int(input('Введите число: '))\n",
        "  choise = int(input('Выберите действие? \\n1 - вывести суму цифр числа. \\n2 - вывести максимальную цифру. \\n3 - вывести минимальную цифру. \\n'))\n",
        "  if choise == 1:\n",
        "    print('Сумма: ', summa(number))\n",
        "  elif choise == 2:\n",
        "    print('Максимальная цифра: ', maximum(number))\n",
        "  elif choise == 3:\n",
        "    print('Минимальная цифра: ', minimum(number))\n",
        "  else:\n",
        "    print(\"Вы ввели что-то не то. Попробуйте еще раз!\")"
      ],
      "metadata": {
        "id": "GM2sMefpfL-0"
      },
      "execution_count": null,
      "outputs": []
    },
    {
      "cell_type": "markdown",
      "source": [
        "# task_4\n",
        "Задача 4. Число наоборот\n",
        "\n",
        "Вводится последовательность чисел,\n",
        "которая оканчивается нулём.\n",
        "Реализуйте функцию, которая принимает в качестве аргумента каждое число, переворачивает его и выводит на экран.\n",
        "\n",
        "Дополнительно: добейтесь такого вывода чисел, если в его начале идут нули.\n",
        "Введите число: 1230\n",
        "Число наоборот: 321"
      ],
      "metadata": {
        "id": "aJZQx3aTfhXs"
      }
    },
    {
      "cell_type": "code",
      "source": [
        "def func_revers_num(number):\n",
        "    while number != 0:\n",
        "        print(number % 10, end = '')\n",
        "        number //= 10\n",
        "\n",
        "def func_revers_num_zero(number):\n",
        "    numeric = ''\n",
        "    while number != 0:\n",
        "        numeric += str(number % 10)\n",
        "        number //= 10\n",
        "    print(numeric.lstrip('0'))\n",
        "\n",
        "while True:\n",
        "    enter_number = int(input('\\nВведите число: '))\n",
        "\n",
        "    if enter_number == 0:\n",
        "        print('Программа завершена!')\n",
        "    else:\n",
        "        print('Число наоборот: ', end='')\n",
        "        func_revers_num(enter_number)\n",
        "        if enter_number % 10 == 0:\n",
        "            print('\\nЧисло наоборот(дополнительно):')\n",
        "            func_revers_num_zero(enter_number)\n",
        "    print()"
      ],
      "metadata": {
        "id": "GGC96eJXf0tp"
      },
      "execution_count": null,
      "outputs": []
    },
    {
      "cell_type": "markdown",
      "source": [
        "# task_5\n",
        "Задача 5. Текстовый редактор'\n",
        "\n",
        "Мы продолжаем разрабатывать новый текстовый редактор, и в этот раз нам поручили написать для него код, который считает количество любой буквы и любой цифры в тексте (а не только буквы Ы как раньше).\n",
        "Напишите функцию count_letters, которая принимает на вход текст и подсчитывает, какое в нём количество цифр K и букв N.\n",
        "Функция должна вывести на экран информацию о найденных буквах и цифрах в определенном формате."
      ],
      "metadata": {
        "id": "2BEvNYZ8gGvX"
      }
    },
    {
      "cell_type": "code",
      "source": [
        "def count_letters(text):\n",
        "  count_numeric = 0\n",
        "  count_letter = 0\n",
        "  for symbol in text:\n",
        "    if symbol == numeric_k:\n",
        "      count_numeric += 1\n",
        "    elif symbol == symbol_n:\n",
        "      count_letter += 1\n",
        "  print(f'\\nКоличество цифр {numeric_k}: {count_numeric}')\n",
        "  print(f'Количество букв {symbol_n}: {count_letter}')\n",
        "\n",
        "entered_text = input('Введите текст: ')\n",
        "numeric_k = input('Какую цифру ищем? ')\n",
        "symbol_n = input('Какую букву ищем? ')\n",
        "\n",
        "count_letters(entered_text)"
      ],
      "metadata": {
        "id": "qYg2PZhagwpv"
      },
      "execution_count": null,
      "outputs": []
    },
    {
      "cell_type": "markdown",
      "source": [
        "# task_6\n",
        "Задача 6. НОД\n",
        "\n",
        "Напишите функцию, вычисляющую наибольший общий делитель двух чисел."
      ],
      "metadata": {
        "id": "Ic6ChIAmgHYg"
      }
    },
    {
      "cell_type": "code",
      "source": [
        "def nod_fun(a, b):\n",
        "  for gen_div in range(1, min(a, b) + 1):\n",
        "    if (a % gen_div == 0) and (b % gen_div == 0):\n",
        "      max_gen_div = gen_div\n",
        "  print('НОД равен:', max_gen_div)\n",
        "\n",
        "first_num = int(input('Введите первое число: '))\n",
        "second_num = int(input('Введите второе число: '))\n",
        "\n",
        "nod_fun(first_num, second_num)"
      ],
      "metadata": {
        "collapsed": true,
        "id": "IaXdswzphQNx"
      },
      "execution_count": null,
      "outputs": []
    },
    {
      "cell_type": "markdown",
      "source": [
        "# task_7\n",
        "Задача 7. Недоделка\n",
        "\n",
        "Вы пришли на работу в контору по разработке игр, целевая аудитория которых - дети и их родители.\n",
        "У прошлого программиста было задание сделать две игры в одном приложении, чтобы пользователь мог выбирать одну из них.\n",
        "Однако программист, на место которого вы пришл и, перед увольнением не успел сделать эту задачу и оставил только небольшой шаблон проекта.\n",
        "Используя этот шаблон, реализуйте игры «Камень, ножницы, бумага» и «Угадай число».\n",
        "Правила игры «Камень, ножницы, бумага»:\n",
        "программа запрашивает у пользователя строку и выводит победил он или проиграл.\n",
        "Камень бьёт ножницы, ножницы режут бумагу, бумага кроет камень.\n",
        "Правила игры “Угадай число”:\n",
        "программа запрашивает у пользователя число до тех пор, пока он его не отгадает."
      ],
      "metadata": {
        "id": "FuyGvFLpgHxC"
      }
    },
    {
      "cell_type": "code",
      "source": [
        "import random\n",
        "\n",
        "def rock_paper_scissors():\n",
        "    #Здесь будет игра \"Камень, ножницы, бумага\"\n",
        "\tuser_scores = 0\n",
        "\tcomp_scores = 0\n",
        "\tprint('\\nИгра \"Камень, ножницы, бумага.')\n",
        "\twhile True:\n",
        "\t\tuser = int(input('\\nВыберите - камень [1], ножницы [2] или бумага [3]: '))\n",
        "\t\tcomp = random.randint(1, 3)\n",
        "\t\tprint(f'Компьютер выбрал {comp}')\n",
        "\t\tif user == comp:\n",
        "\t\t\tprint('Ничья')\n",
        "\t\t\tuser_scores += 1\n",
        "\t\t\tcomp_scores += 1\n",
        "\t\telif (user == 1 and comp == 2) or (user == 2 and comp == 3) or (user == 3 and comp == 1):\n",
        "\t\t\tprint('Выиграл компьютер. Он зарабатывает 1 балл.')\n",
        "\t\t\tcomp_scores += 1\n",
        "\t\telif (user == 1 and comp == 3) or (user == 2 and comp == 1) or (user == 3 and comp == 2):\n",
        "\t\t\tprint('Вы выиграли и заработали 1 балл.')\n",
        "\t\t\tuser_scores += 1\n",
        "\t\telse:\n",
        "\t\t\tprint('Что-то пошло не так.')\n",
        "\n",
        "\t\tclose_game = input('Хотите продолжить игру y/n: ')\n",
        "\t\tif close_game != 'y':\n",
        "\t\t\tbreak\n",
        "\tprint(f'\\nИтого в игре \"Камень, ножницы, бумага\": \\n - у компьютера {comp_scores} балл(-а,-ов) \\n - у вас {user_scores} балл(-а,-ов).')\n",
        "\n",
        "def guess_the_number():\n",
        "    #Здесь будет игра \"Угадай число\"\n",
        "    attempt_num = 0\n",
        "    number = random.randint(1, 50)\n",
        "    print('\\nИгра \"Угадай число.')\n",
        "    print('\\nЗагадано число от 1 до 50. \\nПопробуйте угадать меньше чем за 6 попыток!')\n",
        "    while attempt_num < 6:\n",
        "    \tguess = int(input('Введите число: '))\n",
        "    \tattempt_num += 1\n",
        "    \tif guess < number:\n",
        "    \t\tprint('Ваше число меньше загаданного.')\n",
        "    \telif guess > number:\n",
        "    \t\tprint('Ваше число больше загаданного.')\n",
        "    \telse:\n",
        "    \t\tbreak\n",
        "\n",
        "    if guess == number:\n",
        "    \tprint('Поздравляю, вы угадали! \\nПопыток сделано: {}.'.format(attempt_num))\n",
        "    else:\n",
        "    \tprint('Увы, но количество попыток исчерпано.\\nБыло загадано: {}.'.format(number))\n",
        "\n",
        "\n",
        "def main_menu():\n",
        "\twhile True:\n",
        "\t\tprint('\\n***********************************')\n",
        "\t\tselect_game = int(input('Во что будем играть?,\\n\"Камень, ножницы, бумага\" [1]. \\n\"Угадай число\" [2]. \\n '))\n",
        "\t\tif select_game == 1:\n",
        "\t\t\trock_paper_scissors()\n",
        "\t\telif select_game == 2:\n",
        "\t\t\tguess_the_number()\n",
        "\t\telse:\n",
        "\t\t\tbreak\n",
        "\n",
        "main_menu()"
      ],
      "metadata": {
        "id": "sIxjMDdS5FX9"
      },
      "execution_count": null,
      "outputs": []
    }
  ]
}